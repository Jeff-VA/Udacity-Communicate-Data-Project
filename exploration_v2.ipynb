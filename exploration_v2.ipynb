{
 "cells": [
  {
   "cell_type": "markdown",
   "metadata": {},
   "source": [
    "# Prosper Loan Data Exploration\n",
    "## by Jeffrey Van Anderson\n",
    "\n",
    "## Preliminary Wrangling\n",
    "\n",
    "**Introduction:**\n",
    "> This document explores data from 113,936 loans from \"Prosper\" and an extensive 81 variables.  Univariate, bivariate and finally multivatiate visualizations are used as the primary exploritory tools here.  This data will be used to ask which variables affect the borrower's APR/interest rate"
   ]
  },
  {
   "cell_type": "markdown",
   "metadata": {},
   "source": [
    "**Step 1:** First, all the necessary packages are imported and `*.csv` data file is imported as pandas dataframe"
   ]
  },
  {
   "cell_type": "code",
   "execution_count": 1,
   "metadata": {},
   "outputs": [],
   "source": [
    "# import all packages and set plots to be embedded inline\n",
    "import numpy as np\n",
    "import pandas as pd\n",
    "import matplotlib.pyplot as plt\n",
    "import seaborn as sns\n",
    "\n",
    "%matplotlib inline"
   ]
  },
  {
   "cell_type": "code",
   "execution_count": 2,
   "metadata": {},
   "outputs": [
    {
     "data": {
      "text/html": [
       "<div>\n",
       "<style scoped>\n",
       "    .dataframe tbody tr th:only-of-type {\n",
       "        vertical-align: middle;\n",
       "    }\n",
       "\n",
       "    .dataframe tbody tr th {\n",
       "        vertical-align: top;\n",
       "    }\n",
       "\n",
       "    .dataframe thead th {\n",
       "        text-align: right;\n",
       "    }\n",
       "</style>\n",
       "<table border=\"1\" class=\"dataframe\">\n",
       "  <thead>\n",
       "    <tr style=\"text-align: right;\">\n",
       "      <th></th>\n",
       "      <th>ListingKey</th>\n",
       "      <th>ListingNumber</th>\n",
       "      <th>ListingCreationDate</th>\n",
       "      <th>CreditGrade</th>\n",
       "      <th>Term</th>\n",
       "      <th>LoanStatus</th>\n",
       "      <th>ClosedDate</th>\n",
       "      <th>BorrowerAPR</th>\n",
       "      <th>BorrowerRate</th>\n",
       "      <th>LenderYield</th>\n",
       "      <th>...</th>\n",
       "      <th>LP_ServiceFees</th>\n",
       "      <th>LP_CollectionFees</th>\n",
       "      <th>LP_GrossPrincipalLoss</th>\n",
       "      <th>LP_NetPrincipalLoss</th>\n",
       "      <th>LP_NonPrincipalRecoverypayments</th>\n",
       "      <th>PercentFunded</th>\n",
       "      <th>Recommendations</th>\n",
       "      <th>InvestmentFromFriendsCount</th>\n",
       "      <th>InvestmentFromFriendsAmount</th>\n",
       "      <th>Investors</th>\n",
       "    </tr>\n",
       "  </thead>\n",
       "  <tbody>\n",
       "    <tr>\n",
       "      <th>0</th>\n",
       "      <td>1021339766868145413AB3B</td>\n",
       "      <td>193129</td>\n",
       "      <td>2007-08-26 19:09:29.263000000</td>\n",
       "      <td>C</td>\n",
       "      <td>36</td>\n",
       "      <td>Completed</td>\n",
       "      <td>2009-08-14 00:00:00</td>\n",
       "      <td>0.16516</td>\n",
       "      <td>0.1580</td>\n",
       "      <td>0.1380</td>\n",
       "      <td>...</td>\n",
       "      <td>-133.18</td>\n",
       "      <td>0.0</td>\n",
       "      <td>0.0</td>\n",
       "      <td>0.0</td>\n",
       "      <td>0.0</td>\n",
       "      <td>1.0</td>\n",
       "      <td>0</td>\n",
       "      <td>0</td>\n",
       "      <td>0.0</td>\n",
       "      <td>258</td>\n",
       "    </tr>\n",
       "    <tr>\n",
       "      <th>1</th>\n",
       "      <td>10273602499503308B223C1</td>\n",
       "      <td>1209647</td>\n",
       "      <td>2014-02-27 08:28:07.900000000</td>\n",
       "      <td>NaN</td>\n",
       "      <td>36</td>\n",
       "      <td>Current</td>\n",
       "      <td>NaN</td>\n",
       "      <td>0.12016</td>\n",
       "      <td>0.0920</td>\n",
       "      <td>0.0820</td>\n",
       "      <td>...</td>\n",
       "      <td>0.00</td>\n",
       "      <td>0.0</td>\n",
       "      <td>0.0</td>\n",
       "      <td>0.0</td>\n",
       "      <td>0.0</td>\n",
       "      <td>1.0</td>\n",
       "      <td>0</td>\n",
       "      <td>0</td>\n",
       "      <td>0.0</td>\n",
       "      <td>1</td>\n",
       "    </tr>\n",
       "    <tr>\n",
       "      <th>2</th>\n",
       "      <td>0EE9337825851032864889A</td>\n",
       "      <td>81716</td>\n",
       "      <td>2007-01-05 15:00:47.090000000</td>\n",
       "      <td>HR</td>\n",
       "      <td>36</td>\n",
       "      <td>Completed</td>\n",
       "      <td>2009-12-17 00:00:00</td>\n",
       "      <td>0.28269</td>\n",
       "      <td>0.2750</td>\n",
       "      <td>0.2400</td>\n",
       "      <td>...</td>\n",
       "      <td>-24.20</td>\n",
       "      <td>0.0</td>\n",
       "      <td>0.0</td>\n",
       "      <td>0.0</td>\n",
       "      <td>0.0</td>\n",
       "      <td>1.0</td>\n",
       "      <td>0</td>\n",
       "      <td>0</td>\n",
       "      <td>0.0</td>\n",
       "      <td>41</td>\n",
       "    </tr>\n",
       "    <tr>\n",
       "      <th>3</th>\n",
       "      <td>0EF5356002482715299901A</td>\n",
       "      <td>658116</td>\n",
       "      <td>2012-10-22 11:02:35.010000000</td>\n",
       "      <td>NaN</td>\n",
       "      <td>36</td>\n",
       "      <td>Current</td>\n",
       "      <td>NaN</td>\n",
       "      <td>0.12528</td>\n",
       "      <td>0.0974</td>\n",
       "      <td>0.0874</td>\n",
       "      <td>...</td>\n",
       "      <td>-108.01</td>\n",
       "      <td>0.0</td>\n",
       "      <td>0.0</td>\n",
       "      <td>0.0</td>\n",
       "      <td>0.0</td>\n",
       "      <td>1.0</td>\n",
       "      <td>0</td>\n",
       "      <td>0</td>\n",
       "      <td>0.0</td>\n",
       "      <td>158</td>\n",
       "    </tr>\n",
       "    <tr>\n",
       "      <th>4</th>\n",
       "      <td>0F023589499656230C5E3E2</td>\n",
       "      <td>909464</td>\n",
       "      <td>2013-09-14 18:38:39.097000000</td>\n",
       "      <td>NaN</td>\n",
       "      <td>36</td>\n",
       "      <td>Current</td>\n",
       "      <td>NaN</td>\n",
       "      <td>0.24614</td>\n",
       "      <td>0.2085</td>\n",
       "      <td>0.1985</td>\n",
       "      <td>...</td>\n",
       "      <td>-60.27</td>\n",
       "      <td>0.0</td>\n",
       "      <td>0.0</td>\n",
       "      <td>0.0</td>\n",
       "      <td>0.0</td>\n",
       "      <td>1.0</td>\n",
       "      <td>0</td>\n",
       "      <td>0</td>\n",
       "      <td>0.0</td>\n",
       "      <td>20</td>\n",
       "    </tr>\n",
       "  </tbody>\n",
       "</table>\n",
       "<p>5 rows × 81 columns</p>\n",
       "</div>"
      ],
      "text/plain": [
       "                ListingKey  ListingNumber            ListingCreationDate  \\\n",
       "0  1021339766868145413AB3B         193129  2007-08-26 19:09:29.263000000   \n",
       "1  10273602499503308B223C1        1209647  2014-02-27 08:28:07.900000000   \n",
       "2  0EE9337825851032864889A          81716  2007-01-05 15:00:47.090000000   \n",
       "3  0EF5356002482715299901A         658116  2012-10-22 11:02:35.010000000   \n",
       "4  0F023589499656230C5E3E2         909464  2013-09-14 18:38:39.097000000   \n",
       "\n",
       "  CreditGrade  Term LoanStatus           ClosedDate  BorrowerAPR  \\\n",
       "0           C    36  Completed  2009-08-14 00:00:00      0.16516   \n",
       "1         NaN    36    Current                  NaN      0.12016   \n",
       "2          HR    36  Completed  2009-12-17 00:00:00      0.28269   \n",
       "3         NaN    36    Current                  NaN      0.12528   \n",
       "4         NaN    36    Current                  NaN      0.24614   \n",
       "\n",
       "   BorrowerRate  LenderYield  ...  LP_ServiceFees  LP_CollectionFees  \\\n",
       "0        0.1580       0.1380  ...         -133.18                0.0   \n",
       "1        0.0920       0.0820  ...            0.00                0.0   \n",
       "2        0.2750       0.2400  ...          -24.20                0.0   \n",
       "3        0.0974       0.0874  ...         -108.01                0.0   \n",
       "4        0.2085       0.1985  ...          -60.27                0.0   \n",
       "\n",
       "   LP_GrossPrincipalLoss  LP_NetPrincipalLoss LP_NonPrincipalRecoverypayments  \\\n",
       "0                    0.0                  0.0                             0.0   \n",
       "1                    0.0                  0.0                             0.0   \n",
       "2                    0.0                  0.0                             0.0   \n",
       "3                    0.0                  0.0                             0.0   \n",
       "4                    0.0                  0.0                             0.0   \n",
       "\n",
       "   PercentFunded  Recommendations InvestmentFromFriendsCount  \\\n",
       "0            1.0                0                          0   \n",
       "1            1.0                0                          0   \n",
       "2            1.0                0                          0   \n",
       "3            1.0                0                          0   \n",
       "4            1.0                0                          0   \n",
       "\n",
       "  InvestmentFromFriendsAmount Investors  \n",
       "0                         0.0       258  \n",
       "1                         0.0         1  \n",
       "2                         0.0        41  \n",
       "3                         0.0       158  \n",
       "4                         0.0        20  \n",
       "\n",
       "[5 rows x 81 columns]"
      ]
     },
     "execution_count": 2,
     "metadata": {},
     "output_type": "execute_result"
    }
   ],
   "source": [
    "#import *.csv file as pandas dataframe and display first five lines\n",
    "df = pd.read_csv('prosperLoanData.csv')\n",
    "df.head()"
   ]
  },
  {
   "cell_type": "markdown",
   "metadata": {},
   "source": [
    "**Step 2:** Next, information is displayed about the dataframe in order to become familiar with the data"
   ]
  },
  {
   "cell_type": "code",
   "execution_count": 3,
   "metadata": {
    "scrolled": true
   },
   "outputs": [
    {
     "name": "stdout",
     "output_type": "stream",
     "text": [
      "<class 'pandas.core.frame.DataFrame'>\n",
      "RangeIndex: 113937 entries, 0 to 113936\n",
      "Data columns (total 81 columns):\n",
      "ListingKey                             113937 non-null object\n",
      "ListingNumber                          113937 non-null int64\n",
      "ListingCreationDate                    113937 non-null object\n",
      "CreditGrade                            28953 non-null object\n",
      "Term                                   113937 non-null int64\n",
      "LoanStatus                             113937 non-null object\n",
      "ClosedDate                             55089 non-null object\n",
      "BorrowerAPR                            113912 non-null float64\n",
      "BorrowerRate                           113937 non-null float64\n",
      "LenderYield                            113937 non-null float64\n",
      "EstimatedEffectiveYield                84853 non-null float64\n",
      "EstimatedLoss                          84853 non-null float64\n",
      "EstimatedReturn                        84853 non-null float64\n",
      "ProsperRating (numeric)                84853 non-null float64\n",
      "ProsperRating (Alpha)                  84853 non-null object\n",
      "ProsperScore                           84853 non-null float64\n",
      "ListingCategory (numeric)              113937 non-null int64\n",
      "BorrowerState                          108422 non-null object\n",
      "Occupation                             110349 non-null object\n",
      "EmploymentStatus                       111682 non-null object\n",
      "EmploymentStatusDuration               106312 non-null float64\n",
      "IsBorrowerHomeowner                    113937 non-null bool\n",
      "CurrentlyInGroup                       113937 non-null bool\n",
      "GroupKey                               13341 non-null object\n",
      "DateCreditPulled                       113937 non-null object\n",
      "CreditScoreRangeLower                  113346 non-null float64\n",
      "CreditScoreRangeUpper                  113346 non-null float64\n",
      "FirstRecordedCreditLine                113240 non-null object\n",
      "CurrentCreditLines                     106333 non-null float64\n",
      "OpenCreditLines                        106333 non-null float64\n",
      "TotalCreditLinespast7years             113240 non-null float64\n",
      "OpenRevolvingAccounts                  113937 non-null int64\n",
      "OpenRevolvingMonthlyPayment            113937 non-null float64\n",
      "InquiriesLast6Months                   113240 non-null float64\n",
      "TotalInquiries                         112778 non-null float64\n",
      "CurrentDelinquencies                   113240 non-null float64\n",
      "AmountDelinquent                       106315 non-null float64\n",
      "DelinquenciesLast7Years                112947 non-null float64\n",
      "PublicRecordsLast10Years               113240 non-null float64\n",
      "PublicRecordsLast12Months              106333 non-null float64\n",
      "RevolvingCreditBalance                 106333 non-null float64\n",
      "BankcardUtilization                    106333 non-null float64\n",
      "AvailableBankcardCredit                106393 non-null float64\n",
      "TotalTrades                            106393 non-null float64\n",
      "TradesNeverDelinquent (percentage)     106393 non-null float64\n",
      "TradesOpenedLast6Months                106393 non-null float64\n",
      "DebtToIncomeRatio                      105383 non-null float64\n",
      "IncomeRange                            113937 non-null object\n",
      "IncomeVerifiable                       113937 non-null bool\n",
      "StatedMonthlyIncome                    113937 non-null float64\n",
      "LoanKey                                113937 non-null object\n",
      "TotalProsperLoans                      22085 non-null float64\n",
      "TotalProsperPaymentsBilled             22085 non-null float64\n",
      "OnTimeProsperPayments                  22085 non-null float64\n",
      "ProsperPaymentsLessThanOneMonthLate    22085 non-null float64\n",
      "ProsperPaymentsOneMonthPlusLate        22085 non-null float64\n",
      "ProsperPrincipalBorrowed               22085 non-null float64\n",
      "ProsperPrincipalOutstanding            22085 non-null float64\n",
      "ScorexChangeAtTimeOfListing            18928 non-null float64\n",
      "LoanCurrentDaysDelinquent              113937 non-null int64\n",
      "LoanFirstDefaultedCycleNumber          16952 non-null float64\n",
      "LoanMonthsSinceOrigination             113937 non-null int64\n",
      "LoanNumber                             113937 non-null int64\n",
      "LoanOriginalAmount                     113937 non-null int64\n",
      "LoanOriginationDate                    113937 non-null object\n",
      "LoanOriginationQuarter                 113937 non-null object\n",
      "MemberKey                              113937 non-null object\n",
      "MonthlyLoanPayment                     113937 non-null float64\n",
      "LP_CustomerPayments                    113937 non-null float64\n",
      "LP_CustomerPrincipalPayments           113937 non-null float64\n",
      "LP_InterestandFees                     113937 non-null float64\n",
      "LP_ServiceFees                         113937 non-null float64\n",
      "LP_CollectionFees                      113937 non-null float64\n",
      "LP_GrossPrincipalLoss                  113937 non-null float64\n",
      "LP_NetPrincipalLoss                    113937 non-null float64\n",
      "LP_NonPrincipalRecoverypayments        113937 non-null float64\n",
      "PercentFunded                          113937 non-null float64\n",
      "Recommendations                        113937 non-null int64\n",
      "InvestmentFromFriendsCount             113937 non-null int64\n",
      "InvestmentFromFriendsAmount            113937 non-null float64\n",
      "Investors                              113937 non-null int64\n",
      "dtypes: bool(3), float64(50), int64(11), object(17)\n",
      "memory usage: 68.1+ MB\n"
     ]
    }
   ],
   "source": [
    "df.info()"
   ]
  },
  {
   "cell_type": "markdown",
   "metadata": {},
   "source": [
    "**Step 3:**  After briefly previewing the data, it is clear that there are excessive column variables to address in this one report.  A select few are queried and applied to a new dataframe for analysis."
   ]
  },
  {
   "cell_type": "code",
   "execution_count": 4,
   "metadata": {},
   "outputs": [
    {
     "name": "stdout",
     "output_type": "stream",
     "text": [
      "<class 'pandas.core.frame.DataFrame'>\n",
      "RangeIndex: 113937 entries, 0 to 113936\n",
      "Data columns (total 11 columns):\n",
      "ListingKey                   113937 non-null object\n",
      "BorrowerAPR                  113912 non-null float64\n",
      "Term                         113937 non-null int64\n",
      "IncomeRange                  113937 non-null object\n",
      "EmploymentStatus             111682 non-null object\n",
      "LoanOriginalAmount           113937 non-null int64\n",
      "DebtToIncomeRatio            105383 non-null float64\n",
      "ListingCategory (numeric)    113937 non-null int64\n",
      "IsBorrowerHomeowner          113937 non-null bool\n",
      "DelinquenciesLast7Years      112947 non-null float64\n",
      "AmountDelinquent             106315 non-null float64\n",
      "dtypes: bool(1), float64(4), int64(3), object(3)\n",
      "memory usage: 8.8+ MB\n"
     ]
    }
   ],
   "source": [
    "#create list of collumns to keep for analysis\n",
    "cols_to_keep = ['ListingKey', 'BorrowerAPR', 'Term', 'IncomeRange', 'EmploymentStatus',\n",
    "                'LoanOriginalAmount', 'DebtToIncomeRatio', 'ListingCategory (numeric)', \n",
    "                'IsBorrowerHomeowner', 'DelinquenciesLast7Years', 'AmountDelinquent']\n",
    "\n",
    "#assign queried collumns as df_trimmed variable\n",
    "df_trimmed = df[cols_to_keep]\n",
    "\n",
    "#confirm successful trim\n",
    "df_trimmed.info()"
   ]
  },
  {
   "cell_type": "markdown",
   "metadata": {},
   "source": [
    "**Step 4:** With the separate dataframe, `df_trimmed` having fifteen columns, a few more functions can be applied to learn more about the data"
   ]
  },
  {
   "cell_type": "code",
   "execution_count": 5,
   "metadata": {},
   "outputs": [
    {
     "data": {
      "text/html": [
       "<div>\n",
       "<style scoped>\n",
       "    .dataframe tbody tr th:only-of-type {\n",
       "        vertical-align: middle;\n",
       "    }\n",
       "\n",
       "    .dataframe tbody tr th {\n",
       "        vertical-align: top;\n",
       "    }\n",
       "\n",
       "    .dataframe thead th {\n",
       "        text-align: right;\n",
       "    }\n",
       "</style>\n",
       "<table border=\"1\" class=\"dataframe\">\n",
       "  <thead>\n",
       "    <tr style=\"text-align: right;\">\n",
       "      <th></th>\n",
       "      <th>BorrowerAPR</th>\n",
       "      <th>Term</th>\n",
       "      <th>LoanOriginalAmount</th>\n",
       "      <th>DebtToIncomeRatio</th>\n",
       "      <th>ListingCategory (numeric)</th>\n",
       "      <th>DelinquenciesLast7Years</th>\n",
       "      <th>AmountDelinquent</th>\n",
       "    </tr>\n",
       "  </thead>\n",
       "  <tbody>\n",
       "    <tr>\n",
       "      <th>count</th>\n",
       "      <td>113912.000000</td>\n",
       "      <td>113937.000000</td>\n",
       "      <td>113937.00000</td>\n",
       "      <td>105383.000000</td>\n",
       "      <td>113937.000000</td>\n",
       "      <td>112947.000000</td>\n",
       "      <td>106315.000000</td>\n",
       "    </tr>\n",
       "    <tr>\n",
       "      <th>mean</th>\n",
       "      <td>0.218828</td>\n",
       "      <td>40.830248</td>\n",
       "      <td>8337.01385</td>\n",
       "      <td>0.275947</td>\n",
       "      <td>2.774209</td>\n",
       "      <td>4.154984</td>\n",
       "      <td>984.507059</td>\n",
       "    </tr>\n",
       "    <tr>\n",
       "      <th>std</th>\n",
       "      <td>0.080364</td>\n",
       "      <td>10.436212</td>\n",
       "      <td>6245.80058</td>\n",
       "      <td>0.551759</td>\n",
       "      <td>3.996797</td>\n",
       "      <td>10.160216</td>\n",
       "      <td>7158.270157</td>\n",
       "    </tr>\n",
       "    <tr>\n",
       "      <th>min</th>\n",
       "      <td>0.006530</td>\n",
       "      <td>12.000000</td>\n",
       "      <td>1000.00000</td>\n",
       "      <td>0.000000</td>\n",
       "      <td>0.000000</td>\n",
       "      <td>0.000000</td>\n",
       "      <td>0.000000</td>\n",
       "    </tr>\n",
       "    <tr>\n",
       "      <th>25%</th>\n",
       "      <td>0.156290</td>\n",
       "      <td>36.000000</td>\n",
       "      <td>4000.00000</td>\n",
       "      <td>0.140000</td>\n",
       "      <td>1.000000</td>\n",
       "      <td>0.000000</td>\n",
       "      <td>0.000000</td>\n",
       "    </tr>\n",
       "    <tr>\n",
       "      <th>50%</th>\n",
       "      <td>0.209760</td>\n",
       "      <td>36.000000</td>\n",
       "      <td>6500.00000</td>\n",
       "      <td>0.220000</td>\n",
       "      <td>1.000000</td>\n",
       "      <td>0.000000</td>\n",
       "      <td>0.000000</td>\n",
       "    </tr>\n",
       "    <tr>\n",
       "      <th>75%</th>\n",
       "      <td>0.283810</td>\n",
       "      <td>36.000000</td>\n",
       "      <td>12000.00000</td>\n",
       "      <td>0.320000</td>\n",
       "      <td>3.000000</td>\n",
       "      <td>3.000000</td>\n",
       "      <td>0.000000</td>\n",
       "    </tr>\n",
       "    <tr>\n",
       "      <th>max</th>\n",
       "      <td>0.512290</td>\n",
       "      <td>60.000000</td>\n",
       "      <td>35000.00000</td>\n",
       "      <td>10.010000</td>\n",
       "      <td>20.000000</td>\n",
       "      <td>99.000000</td>\n",
       "      <td>463881.000000</td>\n",
       "    </tr>\n",
       "  </tbody>\n",
       "</table>\n",
       "</div>"
      ],
      "text/plain": [
       "         BorrowerAPR           Term  LoanOriginalAmount  DebtToIncomeRatio  \\\n",
       "count  113912.000000  113937.000000        113937.00000      105383.000000   \n",
       "mean        0.218828      40.830248          8337.01385           0.275947   \n",
       "std         0.080364      10.436212          6245.80058           0.551759   \n",
       "min         0.006530      12.000000          1000.00000           0.000000   \n",
       "25%         0.156290      36.000000          4000.00000           0.140000   \n",
       "50%         0.209760      36.000000          6500.00000           0.220000   \n",
       "75%         0.283810      36.000000         12000.00000           0.320000   \n",
       "max         0.512290      60.000000         35000.00000          10.010000   \n",
       "\n",
       "       ListingCategory (numeric)  DelinquenciesLast7Years  AmountDelinquent  \n",
       "count              113937.000000            112947.000000     106315.000000  \n",
       "mean                    2.774209                 4.154984        984.507059  \n",
       "std                     3.996797                10.160216       7158.270157  \n",
       "min                     0.000000                 0.000000          0.000000  \n",
       "25%                     1.000000                 0.000000          0.000000  \n",
       "50%                     1.000000                 0.000000          0.000000  \n",
       "75%                     3.000000                 3.000000          0.000000  \n",
       "max                    20.000000                99.000000     463881.000000  "
      ]
     },
     "execution_count": 5,
     "metadata": {},
     "output_type": "execute_result"
    }
   ],
   "source": [
    "#review distribution of data in variables\n",
    "df_trimmed.describe()"
   ]
  },
  {
   "cell_type": "code",
   "execution_count": 6,
   "metadata": {
    "scrolled": true
   },
   "outputs": [
    {
     "data": {
      "text/plain": [
       "ListingKey                      0\n",
       "BorrowerAPR                    25\n",
       "Term                            0\n",
       "IncomeRange                     0\n",
       "EmploymentStatus             2255\n",
       "LoanOriginalAmount              0\n",
       "DebtToIncomeRatio            8554\n",
       "ListingCategory (numeric)       0\n",
       "IsBorrowerHomeowner             0\n",
       "DelinquenciesLast7Years       990\n",
       "AmountDelinquent             7622\n",
       "dtype: int64"
      ]
     },
     "execution_count": 6,
     "metadata": {},
     "output_type": "execute_result"
    }
   ],
   "source": [
    "#view null value totals for each column\n",
    "df_trimmed.isnull().sum()"
   ]
  },
  {
   "cell_type": "markdown",
   "metadata": {},
   "source": [
    "**Step 5:**  After inspection, there are a few more tidyness and cleanliness issues that need to be addressed as follows:\n",
    "* `ListingCategory (numeric)` title needs to be shortened\n",
    "* there is null data in a few columns\n",
    "* some datatypes should be changed\n",
    " * `Term` should be categorical\n",
    " * `IncomeRange` should be categorical \n",
    "* the `ListingCategory` column values should be replaced with strings to avoid unnecesssary referencing"
   ]
  },
  {
   "cell_type": "code",
   "execution_count": 7,
   "metadata": {},
   "outputs": [
    {
     "data": {
      "text/html": [
       "<div>\n",
       "<style scoped>\n",
       "    .dataframe tbody tr th:only-of-type {\n",
       "        vertical-align: middle;\n",
       "    }\n",
       "\n",
       "    .dataframe tbody tr th {\n",
       "        vertical-align: top;\n",
       "    }\n",
       "\n",
       "    .dataframe thead th {\n",
       "        text-align: right;\n",
       "    }\n",
       "</style>\n",
       "<table border=\"1\" class=\"dataframe\">\n",
       "  <thead>\n",
       "    <tr style=\"text-align: right;\">\n",
       "      <th></th>\n",
       "      <th>ListingKey</th>\n",
       "      <th>BorrowerAPR</th>\n",
       "      <th>Term</th>\n",
       "      <th>IncomeRange</th>\n",
       "      <th>EmploymentStatus</th>\n",
       "      <th>LoanOriginalAmount</th>\n",
       "      <th>DebtToIncomeRatio</th>\n",
       "      <th>ListingCategory</th>\n",
       "      <th>IsBorrowerHomeowner</th>\n",
       "      <th>DelinquenciesLast7Years</th>\n",
       "      <th>AmountDelinquent</th>\n",
       "    </tr>\n",
       "  </thead>\n",
       "  <tbody>\n",
       "    <tr>\n",
       "      <th>0</th>\n",
       "      <td>1021339766868145413AB3B</td>\n",
       "      <td>0.16516</td>\n",
       "      <td>36</td>\n",
       "      <td>$25,000-49,999</td>\n",
       "      <td>Self-employed</td>\n",
       "      <td>9425</td>\n",
       "      <td>0.17</td>\n",
       "      <td>0</td>\n",
       "      <td>True</td>\n",
       "      <td>4.0</td>\n",
       "      <td>472.0</td>\n",
       "    </tr>\n",
       "  </tbody>\n",
       "</table>\n",
       "</div>"
      ],
      "text/plain": [
       "                ListingKey  BorrowerAPR  Term     IncomeRange  \\\n",
       "0  1021339766868145413AB3B      0.16516    36  $25,000-49,999   \n",
       "\n",
       "  EmploymentStatus  LoanOriginalAmount  DebtToIncomeRatio  ListingCategory  \\\n",
       "0    Self-employed                9425               0.17                0   \n",
       "\n",
       "   IsBorrowerHomeowner  DelinquenciesLast7Years  AmountDelinquent  \n",
       "0                 True                      4.0             472.0  "
      ]
     },
     "execution_count": 7,
     "metadata": {},
     "output_type": "execute_result"
    }
   ],
   "source": [
    "#remove ' (numeric)' string from `ListingCategory`\n",
    "df_trimmed = df_trimmed.rename(index=str, columns={\"ListingCategory (numeric)\": \"ListingCategory\"})\n",
    "df_trimmed.head(1)"
   ]
  },
  {
   "cell_type": "code",
   "execution_count": 8,
   "metadata": {
    "scrolled": false
   },
   "outputs": [],
   "source": [
    "#create list of columns with nulls\n",
    "nulls_todrop = ['EmploymentStatus', 'DebtToIncomeRatio',\n",
    "                'DelinquenciesLast7Years', 'AmountDelinquent']\n",
    "\n",
    "#drop row observalions where there are nulls in each specified column\n",
    "for col in nulls_todrop:\n",
    "    df_trimmed = df_trimmed[df_trimmed[col].notnull()]\n"
   ]
  },
  {
   "cell_type": "code",
   "execution_count": 9,
   "metadata": {},
   "outputs": [],
   "source": [
    "#create dictionary of desired orders for each category\n",
    "cat_dict = {'Term' : [12, 36, 60],\n",
    "            'IncomeRange' : ['Not employed', 'Not displayed', '$1-24,999', '$25,000-49,999',\n",
    "                             '$50,000-74,999', '$75,000-99,999', '$100,000+']}\n",
    "\n",
    "#loop over two dictionary variables and apply each ordered list to categorical Dtype\n",
    "for col in cat_dict:\n",
    "    order = pd.api.types.CategoricalDtype(ordered = True, categories = cat_dict[col])\n",
    "    df_trimmed[col] = df_trimmed[col].astype(order)\n"
   ]
  },
  {
   "cell_type": "code",
   "execution_count": 11,
   "metadata": {
    "scrolled": true
   },
   "outputs": [
    {
     "name": "stdout",
     "output_type": "stream",
     "text": [
      "<class 'pandas.core.frame.DataFrame'>\n",
      "Index: 97905 entries, 0 to 113936\n",
      "Data columns (total 11 columns):\n",
      "ListingKey                 97905 non-null object\n",
      "BorrowerAPR                97905 non-null float64\n",
      "Term                       97905 non-null category\n",
      "IncomeRange                97905 non-null category\n",
      "EmploymentStatus           97905 non-null object\n",
      "LoanOriginalAmount         97905 non-null int64\n",
      "DebtToIncomeRatio          97905 non-null float64\n",
      "ListingCategory            97905 non-null int64\n",
      "IsBorrowerHomeowner        97905 non-null bool\n",
      "DelinquenciesLast7Years    97905 non-null int32\n",
      "AmountDelinquent           97905 non-null float64\n",
      "dtypes: bool(1), category(2), float64(3), int32(1), int64(2), object(2)\n",
      "memory usage: 6.6+ MB\n"
     ]
    }
   ],
   "source": [
    "#confirm success of changed dtypes\n",
    "df_trimmed.info()"
   ]
  },
  {
   "cell_type": "code",
   "execution_count": 12,
   "metadata": {},
   "outputs": [
    {
     "data": {
      "text/plain": [
       "Debt Consolidation    54628\n",
       "Other                  9531\n",
       "Not Available          9161\n",
       "Home Improvement       6959\n",
       "Business               5205\n",
       "Auto                   2363\n",
       "Personal Loan          2271\n",
       "Household Expenses     1788\n",
       "Medical/Dental         1404\n",
       "Large Purchases         806\n",
       "Taxes                   788\n",
       "Wedding Loans           732\n",
       "Vacation                722\n",
       "Student Use             605\n",
       "Motorcycle              289\n",
       "Engagement Ring         201\n",
       "Baby&Adoption           191\n",
       "Boat                     83\n",
       "Cosmetic Procedure       82\n",
       "RV                       50\n",
       "Green Loans              46\n",
       "Name: ListingCategory, dtype: int64"
      ]
     },
     "execution_count": 12,
     "metadata": {},
     "output_type": "execute_result"
    }
   ],
   "source": [
    "#change `ListingCategory` from integer to category string\n",
    "#first change dtype to string for iteration\n",
    "df_trimmed['ListingCategory'] = df_trimmed['ListingCategory'].astype('str')\n",
    "\n",
    "#assign dictionary of category name to number\n",
    "cat_dict = {'0' : 'Not Available',\n",
    "            '1' : 'Debt Consolidation',\n",
    "            '2' : 'Home Improvement', \n",
    "            '3' : 'Business',\n",
    "            '4' : 'Personal Loan',\n",
    "            '5' : 'Student Use',\n",
    "            '6' : 'Auto', \n",
    "            '7' : 'Other',\n",
    "            '8' : 'Baby&Adoption',\n",
    "            '9' : 'Boat',\n",
    "            '10' : 'Cosmetic Procedure',\n",
    "            '11' : 'Engagement Ring',\n",
    "            '12' : 'Green Loans',\n",
    "            '13' : 'Household Expenses', \n",
    "            '14' : 'Large Purchases',\n",
    "            '15' : 'Medical/Dental',\n",
    "            '16' : 'Motorcycle',\n",
    "            '17' : 'RV',\n",
    "            '18' : 'Taxes',\n",
    "            '19' : 'Vacation',\n",
    "            '20' : 'Wedding Loans'}\n",
    "\n",
    "#loop over column and replace numbers with category strings\n",
    "for num, string in cat_dict.items():\n",
    "    df_trimmed['ListingCategory'] = df_trimmed['ListingCategory'].replace(num, string)\n",
    "\n",
    "#confirm success\n",
    "df_trimmed['ListingCategory'].value_counts()"
   ]
  },
  {
   "cell_type": "markdown",
   "metadata": {},
   "source": [
    "**Step 5.5:** Since the two columns: `AmountDelinquent`, and `DelinquenciesLast7Years` need to have zeroes disregarded in order to perform exploratory analysis in the next section, these zeroes should be replaced with null values."
   ]
  },
  {
   "cell_type": "code",
   "execution_count": 13,
   "metadata": {
    "scrolled": true
   },
   "outputs": [
    {
     "data": {
      "text/html": [
       "<div>\n",
       "<style scoped>\n",
       "    .dataframe tbody tr th:only-of-type {\n",
       "        vertical-align: middle;\n",
       "    }\n",
       "\n",
       "    .dataframe tbody tr th {\n",
       "        vertical-align: top;\n",
       "    }\n",
       "\n",
       "    .dataframe thead th {\n",
       "        text-align: right;\n",
       "    }\n",
       "</style>\n",
       "<table border=\"1\" class=\"dataframe\">\n",
       "  <thead>\n",
       "    <tr style=\"text-align: right;\">\n",
       "      <th></th>\n",
       "      <th>AmountDelinquent</th>\n",
       "      <th>DelinquenciesLast7Years</th>\n",
       "    </tr>\n",
       "  </thead>\n",
       "  <tbody>\n",
       "    <tr>\n",
       "      <th>count</th>\n",
       "      <td>15525.000000</td>\n",
       "      <td>31100.00000</td>\n",
       "    </tr>\n",
       "    <tr>\n",
       "      <th>mean</th>\n",
       "      <td>6326.955684</td>\n",
       "      <td>12.69299</td>\n",
       "    </tr>\n",
       "    <tr>\n",
       "      <th>std</th>\n",
       "      <td>17003.297287</td>\n",
       "      <td>14.14363</td>\n",
       "    </tr>\n",
       "    <tr>\n",
       "      <th>min</th>\n",
       "      <td>1.000000</td>\n",
       "      <td>1.00000</td>\n",
       "    </tr>\n",
       "    <tr>\n",
       "      <th>25%</th>\n",
       "      <td>248.000000</td>\n",
       "      <td>3.00000</td>\n",
       "    </tr>\n",
       "    <tr>\n",
       "      <th>50%</th>\n",
       "      <td>1072.000000</td>\n",
       "      <td>8.00000</td>\n",
       "    </tr>\n",
       "    <tr>\n",
       "      <th>75%</th>\n",
       "      <td>5078.000000</td>\n",
       "      <td>17.00000</td>\n",
       "    </tr>\n",
       "    <tr>\n",
       "      <th>max</th>\n",
       "      <td>463881.000000</td>\n",
       "      <td>99.00000</td>\n",
       "    </tr>\n",
       "  </tbody>\n",
       "</table>\n",
       "</div>"
      ],
      "text/plain": [
       "       AmountDelinquent  DelinquenciesLast7Years\n",
       "count      15525.000000              31100.00000\n",
       "mean        6326.955684                 12.69299\n",
       "std        17003.297287                 14.14363\n",
       "min            1.000000                  1.00000\n",
       "25%          248.000000                  3.00000\n",
       "50%         1072.000000                  8.00000\n",
       "75%         5078.000000                 17.00000\n",
       "max       463881.000000                 99.00000"
      ]
     },
     "execution_count": 13,
     "metadata": {},
     "output_type": "execute_result"
    }
   ],
   "source": [
    "#replace zeroes with NaN values in the three specified columns\n",
    "del_cols = ['AmountDelinquent', 'DelinquenciesLast7Years']\n",
    "df_trimmed[del_cols] = df_trimmed[del_cols].replace({0 : np.nan})\n",
    "\n",
    "#ensure success\n",
    "df_trimmed[del_cols].describe()"
   ]
  },
  {
   "cell_type": "code",
   "execution_count": 14,
   "metadata": {},
   "outputs": [
    {
     "name": "stdout",
     "output_type": "stream",
     "text": [
      "<class 'pandas.core.frame.DataFrame'>\n",
      "Index: 97905 entries, 0 to 113936\n",
      "Data columns (total 11 columns):\n",
      "ListingKey                 97905 non-null object\n",
      "BorrowerAPR                97905 non-null float64\n",
      "Term                       97905 non-null category\n",
      "IncomeRange                97905 non-null category\n",
      "EmploymentStatus           97905 non-null object\n",
      "LoanOriginalAmount         97905 non-null int64\n",
      "DebtToIncomeRatio          97905 non-null float64\n",
      "ListingCategory            97905 non-null object\n",
      "IsBorrowerHomeowner        97905 non-null bool\n",
      "DelinquenciesLast7Years    31100 non-null float64\n",
      "AmountDelinquent           15525 non-null float64\n",
      "dtypes: bool(1), category(2), float64(4), int64(1), object(3)\n",
      "memory usage: 7.0+ MB\n"
     ]
    }
   ],
   "source": [
    "df_trimmed.info()"
   ]
  },
  {
   "cell_type": "markdown",
   "metadata": {},
   "source": [
    "**Step 6:** Now that the data is wrangled, it is time to reflect on it prior to exploratory analysis."
   ]
  },
  {
   "cell_type": "markdown",
   "metadata": {},
   "source": [
    "### What is the structure of your dataset?\n",
    "\n",
    "> After some trimming, tidying and wrangling the dataframe to be explored has considerably fewer columns than the original dataset; however, the number of rows are less since incomplete data was dropped.  There are eleven columns in the resulting dataframe (ten variables and one key) and 97,905 rows or loan records with no null values except for the two delinquency columns.  These two columns have nulls instead of zeroes for further analysis\n",
    "\n",
    "> For the eleven variable collumns, there are the following data types:\n",
    "> * there are five numeric columns (four float and one integer)\n",
    "> * there are two ordered categorical columns for `Term` and `IncomeRange`\n",
    "> * there are two object or string columns for unordered categories\n",
    "> * finally, the `IsBorrowerHomeowner` column is a simple bool answer.\n",
    "\n",
    "### What is/are the main feature(s) of interest in your dataset?\n",
    "\n",
    "> Of primary interest is which variables effect the APR of loans.  Additionally, it would be interesting to see if `AmountDelinquent` is of any consequence to the APR or if they are related to `DelinquenciesLast7Years`.  \n",
    "\n",
    "### What features in the dataset do you think will help support your investigation into your feature(s) of interest?\n",
    "\n",
    "> Each of the variables could very well effect the `BorrowerAPR` with the exception of `AmountDelinquent`.  This is since the `AmountDelinquent` variable was taken at the time of record and not the time of loan; however, it may be effected by the `BorrowerAPR`.  "
   ]
  },
  {
   "cell_type": "markdown",
   "metadata": {},
   "source": [
    "## Univariate Exploration\n",
    "\n",
    "> In this section, investigate distributions of individual variables. If\n",
    "you see unusual points or outliers, take a deeper look to clean things up\n",
    "and prepare yourself to look at relationships between variables."
   ]
  },
  {
   "cell_type": "markdown",
   "metadata": {},
   "source": [
    "**Step 1:** The following four countplots are of the categorical variables with the least variety of variables.  These are not very meaningful without bivariate analysis.  Perhaps a heatmap will be of use.\n",
    "\n",
    "It is of note that the majority of loans are for 36 months and the majority of borrowers are homeowners.  However, it is not surprising that the typical income is concentrated between 25 and 75 thousand dollars."
   ]
  },
  {
   "cell_type": "code",
   "execution_count": 28,
   "metadata": {},
   "outputs": [
    {
     "data": {
      "image/png": "[encoded data removed]",
      "text/plain": [
       "<Figure size 864x432 with 2 Axes>"
      ]
     },
     "metadata": {
      "needs_background": "light"
     },
     "output_type": "display_data"
    }
   ],
   "source": [
    "#plots two bar charts of loans by `Term` and `IsBorrowerHomeowner`\n",
    "fig, ax = plt.subplots(ncols=2, figsize=(12,6))\n",
    "sns.countplot(data = df_trimmed, x = 'Term', color = base_color, ax = ax[0])\n",
    "sns.countplot(data = df_trimmed, x = 'IsBorrowerHomeowner', color = base_color, ax = ax[1]);"
   ]
  },
  {
   "cell_type": "code",
   "execution_count": 25,
   "metadata": {},
   "outputs": [
    {
     "data": {
      "image/png": "[encoded data removed]",
      "text/plain": [
       "<Figure size 1008x576 with 1 Axes>"
      ]
     },
     "metadata": {
      "needs_background": "light"
     },
     "output_type": "display_data"
    }
   ],
   "source": [
    "#plots a bar chart of loans by `IncomeRange`\n",
    "plt.figure(figsize=(14,8))\n",
    "sns.countplot(data = df_trimmed, x = 'IncomeRange', color = base_color);"
   ]
  },
  {
   "cell_type": "code",
   "execution_count": 17,
   "metadata": {},
   "outputs": [
    {
     "data": {
      "image/png": "[encoded data removed]",
      "text/plain": [
       "<Figure size 720x576 with 1 Axes>"
      ]
     },
     "metadata": {
      "needs_background": "light"
     },
     "output_type": "display_data"
    }
   ],
   "source": [
    "#creates variables for proportional tickmarks in preparation for plotting bar chart\n",
    "n_points = df_trimmed.shape[0]\n",
    "max_count = df_trimmed['EmploymentStatus'].value_counts().max()\n",
    "max_prop = max_count / n_points\n",
    "tick_props = np.arange(0, max_prop + 0.05, 0.05)\n",
    "tick_names = ['{}%'.format(int(i*100)) for i in tick_props]\n",
    "\n",
    "#assigns order by descending value_count to `es_order` variable\n",
    "es_order = df_trimmed.EmploymentStatus.value_counts().index\n",
    "\n",
    "#plots a bar chart of loans by `EmploymentStatus`\n",
    "plt.figure(figsize=(10,8))\n",
    "sns.countplot(data = df_trimmed, x = 'EmploymentStatus', color = base_color, order = es_order)\n",
    "plt.yticks(tick_props * n_points, tick_names)\n",
    "plt.ylabel('Proportion');"
   ]
  },
  {
   "cell_type": "markdown",
   "metadata": {},
   "source": [
    "**Step 2:** The next countplot summarizes `ListingCategory` as it has twenty different categorical vaiables.  Interestingly, the vast majority of loans were for debt consolidation.  It might be useful to group the remaining categories for interpretability; however, since there are about 10,000 observations where this information is not available, it would not be possible to infer any statistically significance based on the data.  This is a dead end."
   ]
  },
  {
   "cell_type": "code",
   "execution_count": 18,
   "metadata": {},
   "outputs": [
    {
     "data": {
      "image/png": "[encoded data removed]",
      "text/plain": [
       "<Figure size 1008x576 with 1 Axes>"
      ]
     },
     "metadata": {
      "needs_background": "light"
     },
     "output_type": "display_data"
    }
   ],
   "source": [
    "#assigns order by descending value_count to `lc_order` variable\n",
    "lc_order = df_trimmed.ListingCategory.value_counts().index\n",
    "\n",
    "#plots a bar chart of loans by `ListingCategory`\n",
    "plt.figure(figsize=(14,8))\n",
    "sns.countplot(data = df_trimmed, y = 'ListingCategory', color = base_color, order = lc_order);"
   ]
  },
  {
   "cell_type": "markdown",
   "metadata": {},
   "source": [
    "**Step 3:** Now it is time to view the primary variable of interest `DebtToIncomeRatio`.  When viewed as a histogram, the distribution of APR is fairly shocking.  The distribution appears to center around 20% with an abnormal concentration at 35%.  Perhaps this APR is attributed to a certain categorical variable?"
   ]
  },
  {
   "cell_type": "code",
   "execution_count": 39,
   "metadata": {
    "scrolled": false
   },
   "outputs": [
    {
     "data": {
      "image/png": "[encoded data removed]",
      "text/plain": [
       "<Figure size 864x432 with 1 Axes>"
      ]
     },
     "metadata": {
      "needs_background": "light"
     },
     "output_type": "display_data"
    }
   ],
   "source": [
    "#Creates an array of bins at a specified binsize for histogram\n",
    "binsize = 0.01 \n",
    "bins = np.arange(0, df_trimmed['BorrowerAPR'].max() + binsize, binsize)\n",
    "ticks = np.arange(0, df_trimmed['BorrowerAPR'].max() + 0.05, 0.05)\n",
    "tick_names = ['{}%'.format(int(i*100)) for i in ticks]\n",
    "\n",
    "#plots a histogram of `BorrowerAPR`\n",
    "plt.figure(figsize=(12,6))\n",
    "plt.hist(data = df_trimmed, x = 'BorrowerAPR', bins = bins)\n",
    "plt.xlim([0, 0.45])\n",
    "plt.xticks(ticks, tick_names)\n",
    "plt.xlabel('Borrower APR')\n",
    "plt.ylabel('Count per bin');"
   ]
  },
  {
   "cell_type": "markdown",
   "metadata": {},
   "source": [
    "**Step 4:** Next, a histogram is created to interpret the distribution of the `LoanOriginalAmount` variable.  Insightfully, Prosper appears to approve more loans at the following five specific dollar amounts: \n",
    "* $4,000\n",
    "\n",
    "* $10,000\n",
    "\n",
    "* $15,000\n",
    "\n",
    "* $20,000\n",
    "\n",
    "* $25,000"
   ]
  },
  {
   "cell_type": "code",
   "execution_count": 19,
   "metadata": {
    "scrolled": false
   },
   "outputs": [
    {
     "data": {
      "image/png": "[encoded data removed]",
      "text/plain": [
       "<Figure size 864x432 with 1 Axes>"
      ]
     },
     "metadata": {
      "needs_background": "light"
     },
     "output_type": "display_data"
    }
   ],
   "source": [
    "#Creates an array of bins at a specified binsize for histogram\n",
    "binsize = 500 \n",
    "bins = np.arange(0, df_trimmed['LoanOriginalAmount'].max() + binsize, binsize)\n",
    "\n",
    "#plots a histogram of `LoanOriginalAmount`\n",
    "plt.figure(figsize=(12,6))\n",
    "plt.hist(data = df_trimmed, x = 'LoanOriginalAmount', bins = bins)\n",
    "plt.xlim([0,36000])\n",
    "plt.xlabel('Original loan amount')\n",
    "plt.ylabel('Count per bin');"
   ]
  },
  {
   "cell_type": "markdown",
   "metadata": {},
   "source": [
    "**Step 5:** In order to display the `DebtToIncomeRatio` as a histogram, intuition would suggest that there are extreme outliers as this is a wealth category.  When the pandas `df.describe()` function is used, this becomes clear as one observation had a DTI of greater than 10.  \n",
    "\n",
    "In order to compensate for outliers, a z-score is calculated for the data distribution.  Then the values that fall within that z-score are appended to a list.  Finally, the bin edges of the resulting histogram are determined on the maximum non-outlier value with an acceptible z-score. \n",
    "\n",
    "The resulting histogram is heavily right-skewed with the highest concentration of DTI ratios just below 0.25.  Further bivariate and miltivariate analysis will be needed to see how this compares to other variables."
   ]
  },
  {
   "cell_type": "code",
   "execution_count": 41,
   "metadata": {},
   "outputs": [
    {
     "data": {
      "text/plain": [
       "count    97905.000000\n",
       "mean         0.276037\n",
       "std          0.524517\n",
       "min          0.000000\n",
       "25%          0.150000\n",
       "50%          0.220000\n",
       "75%          0.320000\n",
       "max         10.010000\n",
       "Name: DebtToIncomeRatio, dtype: float64"
      ]
     },
     "execution_count": 41,
     "metadata": {},
     "output_type": "execute_result"
    }
   ],
   "source": [
    "#view distribution of debt to income ratio\n",
    "df_trimmed['DebtToIncomeRatio'].describe()"
   ]
  },
  {
   "cell_type": "code",
   "execution_count": 42,
   "metadata": {},
   "outputs": [],
   "source": [
    "#loops ove `DebtToIncomeRatio` column and appends the non-outlier values to the `amt_del_non_outliers` list\n",
    "DTI_non_outliers = []\n",
    "mean = df_trimmed['DebtToIncomeRatio'].mean()\n",
    "std = df_trimmed['DebtToIncomeRatio'].std()\n",
    "\n",
    "for value in df_trimmed['DebtToIncomeRatio']:\n",
    "    z_score = (value - mean) / std\n",
    "    if np.abs(z_score) < 3:\n",
    "        DTI_non_outliers.append(value)"
   ]
  },
  {
   "cell_type": "code",
   "execution_count": 46,
   "metadata": {},
   "outputs": [
    {
     "data": {
      "image/png": "[encoded data removed]",
      "text/plain": [
       "<Figure size 864x432 with 1 Axes>"
      ]
     },
     "metadata": {
      "needs_background": "light"
     },
     "output_type": "display_data"
    }
   ],
   "source": [
    "#Creates an array of bins at a specified binsize for histogram\n",
    "binsize = 0.02 \n",
    "bins = np.arange(0, np.max(DTI_non_outliers) + binsize, binsize)\n",
    "\n",
    "#plots a histogram of `DebtToIncomeRatio`\n",
    "plt.figure(figsize=(12,6))\n",
    "plt.hist(data = df_trimmed, x = 'DebtToIncomeRatio', bins = bins)\n",
    "#plt.xlim([0,36000])\n",
    "plt.xlabel('Debt to Income Ratio')\n",
    "plt.ylabel('Count per bin');"
   ]
  },
  {
   "cell_type": "markdown",
   "metadata": {},
   "source": [
    "**Step 6:** Without the inclusion of zeroes due to preliminary data cleaning, the distribution of `DelinquenciesLast7Years` is a lot clearer.  This distribution appears to have lower counts of observations for higher frequencies of delinquencies.  This is not surprising."
   ]
  },
  {
   "cell_type": "code",
   "execution_count": 29,
   "metadata": {
    "scrolled": false
   },
   "outputs": [
    {
     "data": {
      "image/png": "[encoded data removed]",
      "text/plain": [
       "<Figure size 864x432 with 1 Axes>"
      ]
     },
     "metadata": {
      "needs_background": "light"
     },
     "output_type": "display_data"
    }
   ],
   "source": [
    "#Creates an array of bins at a specified binsize for histogram\n",
    "binsize = 1\n",
    "bins = np.arange(0, df_trimmed['DelinquenciesLast7Years'].max() + binsize, binsize)\n",
    "\n",
    "#plots a histogram of `LoanOriginalAmount`\n",
    "plt.figure(figsize=(12,6))\n",
    "plt.hist(data = df_trimmed, x = 'DelinquenciesLast7Years', bins = bins)\n",
    "plt.xlim([0,100])\n",
    "plt.xlabel('Total Delinquencies In Past 7 Years')\n",
    "plt.ylabel('Count Per Bin');"
   ]
  },
  {
   "cell_type": "markdown",
   "metadata": {},
   "source": [
    "**Step 7:** Next, the `AmountDelinquent` histogram is displayed.  Once again, this plot is heavily right skewed with what appear to be outliers at a glance. As a result, the bins are filtered by outliers with the same method as **Step 5** for a closer look."
   ]
  },
  {
   "cell_type": "code",
   "execution_count": null,
   "metadata": {},
   "outputs": [],
   "source": [
    "#displays summary statistics of `AmountDelinquent` column\n",
    "df_trimmed['AmountDelinquent'].describe()"
   ]
  },
  {
   "cell_type": "code",
   "execution_count": 24,
   "metadata": {},
   "outputs": [],
   "source": [
    "#loops ove `AmountDelinquent` column and appends the non-outlier values to the `amt_del_non_outliers` list\n",
    "amt_del_non_outliers = []\n",
    "mean = df_trimmed['AmountDelinquent'].mean()\n",
    "std = df_trimmed['AmountDelinquent'].std()\n",
    "\n",
    "for value in df_trimmed['AmountDelinquent']:\n",
    "    z_score = (value - mean) / std\n",
    "    if np.abs(z_score) < 3:\n",
    "        amt_del_non_outliers.append(value)"
   ]
  },
  {
   "cell_type": "code",
   "execution_count": 25,
   "metadata": {
    "scrolled": false
   },
   "outputs": [
    {
     "data": {
      "image/png": "[encoded data removed]",
      "text/plain": [
       "<Figure size 720x432 with 1 Axes>"
      ]
     },
     "metadata": {
      "needs_background": "light"
     },
     "output_type": "display_data"
    }
   ],
   "source": [
    "#sets bin edges and binsize based on non-outliers\n",
    "binsize = 1000\n",
    "bins = np.arange(0, np.max(amt_del_non_outliers) + binsize, binsize)\n",
    "\n",
    "#plots histogram of `AmountDelinquent` based of specified bin edges\n",
    "plt.figure(figsize=(10,6))\n",
    "plt.hist(x = amt_del_non_outliers, bins = bins)\n",
    "plt.xlabel('Amount delinquent in Dollars')\n",
    "plt.ylabel('Count of loans per bin');"
   ]
  },
  {
   "cell_type": "markdown",
   "metadata": {},
   "source": [
    "**Step 7.5:** Since the above histogram is still extremely right skewed, it appears that the amount of potential outliers were not distracting the data.  Instead, this can be displayed by the logorithmic histogram below.  Naturally, Amount delinquent is lower for the majority of loans and gradually higher for a select few.  This heavily skewed data is probably not useful for further analysis since it wpuld be increadibly hard to interprate in bivariate and multivariate ways."
   ]
  },
  {
   "cell_type": "code",
   "execution_count": 26,
   "metadata": {},
   "outputs": [
    {
     "data": {
      "image/png": "[encoded data removed]",
      "text/plain": [
       "<Figure size 864x432 with 1 Axes>"
      ]
     },
     "metadata": {
      "needs_background": "light"
     },
     "output_type": "display_data"
    }
   ],
   "source": [
    "#Take log of `AmountDelinquent` and apply to bins\n",
    "log_data = np.log10(df_trimmed['AmountDelinquent'])\n",
    "log_bins = 10 ** np.arange(0, np.max(log_data)+ 0.05, 0.05)\n",
    "\n",
    "#plot logarithmic transformation of `AmountDelinquent`\n",
    "plt.figure(figsize=(12,6))\n",
    "plt.hist(df_trimmed['AmountDelinquent'], bins = log_bins)\n",
    "plt.xscale('log')\n",
    "tick_locs = [1, 3, 10, 30, 100, 300, 1000, 3000, 10000, 30000, 100000, 300000]\n",
    "plt.xticks(tick_locs, tick_locs)\n",
    "plt.xlabel('Amount delinquent in dollars')\n",
    "plt.ylabel('Logarithmic transformation of counts per bin');\n"
   ]
  },
  {
   "cell_type": "markdown",
   "metadata": {},
   "source": [
    "### Discuss the distribution(s) of your variable(s) of interest. Were there any unusual points? Did you need to perform any transformations?\n",
    "\n",
    "> All three of the quantitative variables of interest were heavily right skewed. However, the `AmountDelinquent` was so skewed that it needed to logorithmically transformed.  Clearly, the majority of loans are not deliquent with a normal logarithmic distribution as quantity in dollars increases.\n",
    "\n",
    "### Of the features you investigated, were there any unusual distributions? Did you perform any operations on the data to tidy, adjust, or change the form of the data? If so, why did you do this?\n",
    "\n",
    "> The `StatedMonthlyIncome` column needs to be filtered for outliers in order to see a clear view of the distribution.  After filtering bin edges by a standard z-score of 3, it becomes clear that there is a right skewed distribution with the majority of monthly incomes being right around $5,000. "
   ]
  },
  {
   "cell_type": "markdown",
   "metadata": {},
   "source": [
    "## Bivariate Exploration\n",
    "\n",
    "> In this section, investigate relationships between pairs of variables in your\n",
    "data. Make sure the variables that you cover here have been introduced in some\n",
    "fashion in the previous section (univariate exploration)."
   ]
  },
  {
   "cell_type": "code",
   "execution_count": null,
   "metadata": {},
   "outputs": [],
   "source": []
  },
  {
   "cell_type": "code",
   "execution_count": null,
   "metadata": {},
   "outputs": [],
   "source": [
    "cat_vars = ['Term', 'IncomeRange', 'EmploymentStatus', 'ListingCategory', 'IsBorrowerHomeowner']\n",
    "quant_vars = ['BorrowerAPR', 'LoanOriginalAmount', 'DebtToIncomeRatio',\n",
    "              'DelinquenciesLast7Years', 'AmountDelinquent']"
   ]
  }
 ],
 "metadata": {
  "kernelspec": {
   "display_name": "Python 3",
   "language": "python",
   "name": "python3"
  },
  "language_info": {
   "codemirror_mode": {
    "name": "ipython",
    "version": 3
   },
   "file_extension": ".py",
   "mimetype": "text/x-python",
   "name": "python",
   "nbconvert_exporter": "python",
   "pygments_lexer": "ipython3",
   "version": "3.7.2"
  }
 },
 "nbformat": 4,
 "nbformat_minor": 2
}
